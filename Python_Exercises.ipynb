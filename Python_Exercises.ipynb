{
  "nbformat": 4,
  "nbformat_minor": 0,
  "metadata": {
    "colab": {
      "provenance": [],
      "authorship_tag": "ABX9TyOYbFra0NgeI2HnXQRsZ66W",
      "include_colab_link": true
    },
    "kernelspec": {
      "name": "python3",
      "display_name": "Python 3"
    },
    "language_info": {
      "name": "python"
    }
  },
  "cells": [
    {
      "cell_type": "markdown",
      "metadata": {
        "id": "view-in-github",
        "colab_type": "text"
      },
      "source": [
        "<a href=\"https://colab.research.google.com/github/Vanmeeg22/Practicing-Python/blob/main/Python_Exercises.ipynb\" target=\"_parent\"><img src=\"https://colab.research.google.com/assets/colab-badge.svg\" alt=\"Open In Colab\"/></a>"
      ]
    },
    {
      "cell_type": "markdown",
      "source": [
        "**1) For a given dict d1 = {'a':34, 'b':15, 'c':78, 'd':50, 'e':67} find difference between largest and smallest values and find their corresponding keys**"
      ],
      "metadata": {
        "id": "uV2hoXRcEFjj"
      }
    },
    {
      "cell_type": "code",
      "source": [
        "d1 = {'a':34, 'b':15, 'c':78, 'd':50, 'e':67}\n",
        "k = list(d1.keys())\n",
        "v = list(d1.values())\n",
        "print(k)\n",
        "print(v)"
      ],
      "metadata": {
        "colab": {
          "base_uri": "https://localhost:8080/"
        },
        "id": "fEzfHKKwD-_z",
        "outputId": "8368b3b4-4661-4e3b-dfbb-2b2593ae813f"
      },
      "execution_count": null,
      "outputs": [
        {
          "output_type": "stream",
          "name": "stdout",
          "text": [
            "['a', 'b', 'c', 'd', 'e']\n",
            "[34, 15, 78, 50, 67]\n"
          ]
        }
      ]
    },
    {
      "cell_type": "code",
      "source": [
        "maxv, minv = max(v), min(v)\n",
        "print(f\"Max value = {maxv}\\nMin value = {minv}\")"
      ],
      "metadata": {
        "colab": {
          "base_uri": "https://localhost:8080/"
        },
        "id": "PRRei8CYE_bQ",
        "outputId": "f2f24446-1e92-4af2-b6f1-8c7294d9278b"
      },
      "execution_count": null,
      "outputs": [
        {
          "output_type": "stream",
          "name": "stdout",
          "text": [
            "Max value = 78\n",
            "Min value = 15\n"
          ]
        }
      ]
    },
    {
      "cell_type": "code",
      "source": [
        "maxv_index, minv_index = v.index(maxv), v.index(minv)\n",
        "print(f\"The max value key = {k[maxv_index]}\\nThe min value key = {k[minv_index]}\")"
      ],
      "metadata": {
        "colab": {
          "base_uri": "https://localhost:8080/"
        },
        "id": "euqlmD1fFYWK",
        "outputId": "370a85ae-e1fe-4ad2-ada5-e20364954342"
      },
      "execution_count": null,
      "outputs": [
        {
          "output_type": "stream",
          "name": "stdout",
          "text": [
            "The max value key = c\n",
            "The min value key = b\n"
          ]
        }
      ]
    },
    {
      "cell_type": "markdown",
      "source": [
        "**2) From a given list of marks, find the second highest marks.**"
      ],
      "metadata": {
        "id": "tBoc62tBRIy0"
      }
    },
    {
      "cell_type": "code",
      "source": [
        "marks = [68, 72, 84, 76, 89, 92, 50, 82]\n",
        "marks.sort()\n",
        "print(marks)"
      ],
      "metadata": {
        "colab": {
          "base_uri": "https://localhost:8080/"
        },
        "id": "7ttnZp9rR3sR",
        "outputId": "5a19d22e-142a-4edc-ca98-03baf8add35f"
      },
      "execution_count": null,
      "outputs": [
        {
          "output_type": "stream",
          "name": "stdout",
          "text": [
            "[50, 68, 72, 76, 82, 84, 89, 92]\n"
          ]
        }
      ]
    },
    {
      "cell_type": "code",
      "source": [
        "print(f\"Second highest marks = {marks[-2]}\")"
      ],
      "metadata": {
        "colab": {
          "base_uri": "https://localhost:8080/"
        },
        "id": "bCavBfSSSF-y",
        "outputId": "77411fb0-b097-4612-807b-2edba7890709"
      },
      "execution_count": null,
      "outputs": [
        {
          "output_type": "stream",
          "name": "stdout",
          "text": [
            "Second highest marks = 89\n"
          ]
        }
      ]
    },
    {
      "cell_type": "markdown",
      "source": [
        "**3) Create a function to generate a list containing common elements of two given lists.**\n",
        "```\n",
        "w1 = [1,2,3,4,67,78]\n",
        "w2 = [45,78,3,11,109]\n",
        "```"
      ],
      "metadata": {
        "id": "WUFG3cSHSniD"
      }
    },
    {
      "cell_type": "code",
      "source": [
        "w1 = [1,2,3,4,67,78]\n",
        "w2 = [45,78,3,11,109]\n",
        "\n",
        "def common1(w1, w2):\n",
        "  common = []\n",
        "  for i in w1:\n",
        "    if i in w2:\n",
        "      common.append(i)\n",
        "  print(common)\n",
        "\n",
        "common1(w1, w2)"
      ],
      "metadata": {
        "colab": {
          "base_uri": "https://localhost:8080/"
        },
        "id": "GBAXJ3tO7ULi",
        "outputId": "798a7a4b-61c3-4018-fce5-9e0adf6a86be"
      },
      "execution_count": null,
      "outputs": [
        {
          "output_type": "stream",
          "name": "stdout",
          "text": [
            "[3, 78]\n"
          ]
        }
      ]
    },
    {
      "cell_type": "code",
      "source": [
        "# Method 2:\n",
        "def common2(w1, w2):\n",
        "  common = []\n",
        "  w1, w2 = set(w1), set(w2)\n",
        "  res = list(w1.intersection(w2))\n",
        "  print(res)\n",
        "\n",
        "common2(w1, w2)"
      ],
      "metadata": {
        "colab": {
          "base_uri": "https://localhost:8080/"
        },
        "id": "YU0-W_B78nDm",
        "outputId": "4d21755a-8df8-4171-e81a-35528559160f"
      },
      "execution_count": null,
      "outputs": [
        {
          "output_type": "stream",
          "name": "stdout",
          "text": [
            "[3, 78]\n"
          ]
        }
      ]
    },
    {
      "cell_type": "markdown",
      "source": [
        "**4) Write a program that takes a list of words and returns the length of longest word and print it as well. Assume any list of words.**"
      ],
      "metadata": {
        "id": "p7wuy0aA-UvV"
      }
    },
    {
      "cell_type": "code",
      "source": [
        "words = [\"Meta\", \"Instagram\", \"Snapchat\", \"WhatsApp\", \"Discord\", \"Signal\", \"Telegram\"]\n",
        "word_len = [len(i) for i in words]\n",
        "print(word_len)"
      ],
      "metadata": {
        "colab": {
          "base_uri": "https://localhost:8080/"
        },
        "id": "fkfBfbs8-j_X",
        "outputId": "1cc6341f-36ca-4e3e-d47c-76cbe9e3ddfb"
      },
      "execution_count": null,
      "outputs": [
        {
          "output_type": "stream",
          "name": "stdout",
          "text": [
            "[4, 9, 8, 8, 7, 6, 8]\n"
          ]
        }
      ]
    },
    {
      "cell_type": "code",
      "source": [
        "max_len = max(word_len)\n",
        "max_len_index = word_len.index(max_len)\n",
        "print(max_len_index)"
      ],
      "metadata": {
        "colab": {
          "base_uri": "https://localhost:8080/"
        },
        "id": "Sd5aTx4HAI8c",
        "outputId": "1ede7e69-a2af-4846-89a6-e397cf11e097"
      },
      "execution_count": null,
      "outputs": [
        {
          "output_type": "stream",
          "name": "stdout",
          "text": [
            "1\n"
          ]
        }
      ]
    },
    {
      "cell_type": "code",
      "source": [
        "print(f\"Longest word is {words[max_len_index]}\")"
      ],
      "metadata": {
        "colab": {
          "base_uri": "https://localhost:8080/"
        },
        "id": "YNqSW5_2ARIX",
        "outputId": "0773329f-f3da-4855-d425-0867fcde6d17"
      },
      "execution_count": null,
      "outputs": [
        {
          "output_type": "stream",
          "name": "stdout",
          "text": [
            "Longest word is Instagram\n"
          ]
        }
      ]
    },
    {
      "cell_type": "markdown",
      "source": [
        "**5) Sort even-placed elements (according to their index) in decreasing and odd-placed in increasing order. Store them in a separate list and display them as output. Assume any list of numbers.**"
      ],
      "metadata": {
        "id": "sl37ZhW9N02G"
      }
    },
    {
      "cell_type": "code",
      "source": [
        "num = [34,23,45,56,28,91,15,3,6,16,29,48,50]\n",
        "\n",
        "even_place, odd_place = [], []\n",
        "for i in range(len(num)):\n",
        "  if i%2 == 0:\n",
        "    even_place.append(num[i])\n",
        "  else:\n",
        "    odd_place.append(num[i])\n",
        "\n",
        "even_place.sort(reverse = True)\n",
        "odd_place.sort()\n",
        "\n",
        "print(\"Values in Even place sorted in decreasing order: \", even_place)\n",
        "print(\"Values in Odd place sorted in increasing order: \", odd_place)"
      ],
      "metadata": {
        "colab": {
          "base_uri": "https://localhost:8080/"
        },
        "id": "Y-czYpu3OUFP",
        "outputId": "6959dde3-b832-44ba-d72d-77878e825dad"
      },
      "execution_count": null,
      "outputs": [
        {
          "output_type": "stream",
          "name": "stdout",
          "text": [
            "Values in Even place sorted in decreasing order:  [50, 45, 34, 29, 28, 15, 6]\n",
            "Values in Odd place sorted in increasing order:  [3, 16, 23, 48, 56, 91]\n"
          ]
        }
      ]
    },
    {
      "cell_type": "markdown",
      "source": [
        "**6) Find the pair (pair of two) of numbers from a list which sum upto 20. Assume any list of numbers. Given list:\n",
        "[3,8,17,8,19,12,11,2,4]**"
      ],
      "metadata": {
        "id": "LIktOmC8RvlI"
      }
    },
    {
      "cell_type": "code",
      "source": [
        "d = [3,8,17,8,19,12,11,2,4]\n",
        "sum20 = []\n",
        "for i in d:\n",
        "  for j in d:\n",
        "    if i+j == 20:\n",
        "      sum20.append((i, j))\n",
        "print(sum20)"
      ],
      "metadata": {
        "colab": {
          "base_uri": "https://localhost:8080/"
        },
        "id": "XgpRIBN6SEIm",
        "outputId": "db9771f2-195f-4c6d-cc7b-fe7cda295815"
      },
      "execution_count": null,
      "outputs": [
        {
          "output_type": "stream",
          "name": "stdout",
          "text": [
            "[(3, 17), (8, 12), (17, 3), (8, 12), (12, 8), (12, 8)]\n"
          ]
        }
      ]
    },
    {
      "cell_type": "code",
      "source": [
        "# Method 2:\n",
        "d = [3,8,17,8,19,12,11,2,4]\n",
        "sum20 = []\n",
        "for i in d:\n",
        "  if (20 - i) in d:\n",
        "      sum20.append((i, 20 - i))\n",
        "print(sum20)"
      ],
      "metadata": {
        "colab": {
          "base_uri": "https://localhost:8080/"
        },
        "id": "VNjyZdHiTAwE",
        "outputId": "67e4d5b5-790e-4b73-9020-5df49325be82"
      },
      "execution_count": null,
      "outputs": [
        {
          "output_type": "stream",
          "name": "stdout",
          "text": [
            "[(3, 17), (8, 12), (17, 3), (8, 12), (12, 8)]\n"
          ]
        }
      ]
    },
    {
      "cell_type": "markdown",
      "source": [
        "**7) Count the occurence of each element in the list using dictionary. Assume any list of numbers or words.**"
      ],
      "metadata": {
        "id": "Hb4lFZpIToie"
      }
    },
    {
      "cell_type": "code",
      "source": [
        "x = [24,35,10,24,10,47,80,47,35,10,24,]\n",
        "d = {}\n",
        "for i in x:\n",
        "  d[i] = x.count(i)\n",
        "print(d)"
      ],
      "metadata": {
        "id": "Wbq_kqdST17u",
        "colab": {
          "base_uri": "https://localhost:8080/"
        },
        "outputId": "c034eaf1-0877-4230-dcb8-39ad8702c745"
      },
      "execution_count": 24,
      "outputs": [
        {
          "output_type": "stream",
          "name": "stdout",
          "text": [
            "{24: 3, 35: 2, 10: 3, 47: 2, 80: 1}\n"
          ]
        }
      ]
    },
    {
      "cell_type": "markdown",
      "source": [
        "**8) For the given list find the sum of marks of A,B,C,D and E**\n",
        "\n",
        "**names = ['A','B','C','D','E','B','C','B','A','C','D','E','D','A','B','E']**\n",
        "\n",
        "**marks = [49,56,78,89,94,90,80,43,54,61,73,85,95,38,56]**"
      ],
      "metadata": {
        "id": "W_kfevXVVqLF"
      }
    },
    {
      "cell_type": "code",
      "source": [
        "names = ['A','C','D','E','B','C','B','A','C','D','E','D','A','B','E']\n",
        "marks = [49,56,78,89,94,90,80,43,54,61,73,85,95,38,56]\n",
        "\n",
        "print(len(names), len(marks))\n",
        "d = {}\n",
        "for i in range(len(names)):\n",
        "  if names[i] not in d.keys():\n",
        "    d[names[i]] = marks[i]\n",
        "  else:\n",
        "    d[names[i]] += marks[i]\n",
        "print(d)"
      ],
      "metadata": {
        "colab": {
          "base_uri": "https://localhost:8080/"
        },
        "id": "5Z9udqt8Wg2b",
        "outputId": "998a5562-7759-4ae6-f750-11ce567cf442"
      },
      "execution_count": 29,
      "outputs": [
        {
          "output_type": "stream",
          "name": "stdout",
          "text": [
            "15 15\n",
            "{'A': 187, 'C': 200, 'D': 224, 'E': 218, 'B': 212}\n"
          ]
        }
      ]
    }
  ]
}