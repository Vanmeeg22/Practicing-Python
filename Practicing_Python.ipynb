{
  "nbformat": 4,
  "nbformat_minor": 0,
  "metadata": {
    "colab": {
      "provenance": [],
      "authorship_tag": "ABX9TyMsXDJC2KDXMIroDo3NIBzM",
      "include_colab_link": true
    },
    "kernelspec": {
      "name": "python3",
      "display_name": "Python 3"
    },
    "language_info": {
      "name": "python"
    }
  },
  "cells": [
    {
      "cell_type": "markdown",
      "metadata": {
        "id": "view-in-github",
        "colab_type": "text"
      },
      "source": [
        "<a href=\"https://colab.research.google.com/github/Vanmeeg22/Practicing-Python/blob/main/Practicing_Python.ipynb\" target=\"_parent\"><img src=\"https://colab.research.google.com/assets/colab-badge.svg\" alt=\"Open In Colab\"/></a>"
      ]
    },
    {
      "cell_type": "markdown",
      "source": [
        "**For a given dict d1 = {'a':34, 'b':15, 'c':78, 'd':50, 'e':67} find difference between largest and smallest values and find their corresponding keys**"
      ],
      "metadata": {
        "id": "uV2hoXRcEFjj"
      }
    },
    {
      "cell_type": "code",
      "source": [
        "d1 = {'a':34, 'b':15, 'c':78, 'd':50, 'e':67}\n",
        "k = list(d1.keys())\n",
        "v = list(d1.values())\n",
        "print(k)\n",
        "print(v)"
      ],
      "metadata": {
        "colab": {
          "base_uri": "https://localhost:8080/"
        },
        "id": "fEzfHKKwD-_z",
        "outputId": "8368b3b4-4661-4e3b-dfbb-2b2593ae813f"
      },
      "execution_count": 2,
      "outputs": [
        {
          "output_type": "stream",
          "name": "stdout",
          "text": [
            "['a', 'b', 'c', 'd', 'e']\n",
            "[34, 15, 78, 50, 67]\n"
          ]
        }
      ]
    },
    {
      "cell_type": "code",
      "source": [
        "maxv, minv = max(v), min(v)\n",
        "print(f\"Max value = {maxv}\\nMin value = {minv}\")"
      ],
      "metadata": {
        "colab": {
          "base_uri": "https://localhost:8080/"
        },
        "id": "PRRei8CYE_bQ",
        "outputId": "f2f24446-1e92-4af2-b6f1-8c7294d9278b"
      },
      "execution_count": 6,
      "outputs": [
        {
          "output_type": "stream",
          "name": "stdout",
          "text": [
            "Max value = 78\n",
            "Min value = 15\n"
          ]
        }
      ]
    },
    {
      "cell_type": "code",
      "source": [
        "maxv_index, minv_index = v.index(maxv), v.index(minv)\n",
        "print(f\"The max value key = {k[maxv_index]}\\nThe min value key = {k[minv_index]}\")"
      ],
      "metadata": {
        "colab": {
          "base_uri": "https://localhost:8080/"
        },
        "id": "euqlmD1fFYWK",
        "outputId": "370a85ae-e1fe-4ad2-ada5-e20364954342"
      },
      "execution_count": 8,
      "outputs": [
        {
          "output_type": "stream",
          "name": "stdout",
          "text": [
            "The max value key = c\n",
            "The min value key = b\n"
          ]
        }
      ]
    }
  ]
}