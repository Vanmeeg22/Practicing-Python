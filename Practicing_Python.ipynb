{
  "nbformat": 4,
  "nbformat_minor": 0,
  "metadata": {
    "colab": {
      "provenance": [],
      "authorship_tag": "ABX9TyNuCPyVgSXpX2aWmc88XKg+",
      "include_colab_link": true
    },
    "kernelspec": {
      "name": "python3",
      "display_name": "Python 3"
    },
    "language_info": {
      "name": "python"
    }
  },
  "cells": [
    {
      "cell_type": "markdown",
      "metadata": {
        "id": "view-in-github",
        "colab_type": "text"
      },
      "source": [
        "<a href=\"https://colab.research.google.com/github/Vanmeeg22/Practicing-Python/blob/main/Practicing_Python.ipynb\" target=\"_parent\"><img src=\"https://colab.research.google.com/assets/colab-badge.svg\" alt=\"Open In Colab\"/></a>"
      ]
    },
    {
      "cell_type": "markdown",
      "source": [
        "**1) For a given dict d1 = {'a':34, 'b':15, 'c':78, 'd':50, 'e':67} find difference between largest and smallest values and find their corresponding keys**"
      ],
      "metadata": {
        "id": "uV2hoXRcEFjj"
      }
    },
    {
      "cell_type": "code",
      "source": [
        "d1 = {'a':34, 'b':15, 'c':78, 'd':50, 'e':67}\n",
        "k = list(d1.keys())\n",
        "v = list(d1.values())\n",
        "print(k)\n",
        "print(v)"
      ],
      "metadata": {
        "colab": {
          "base_uri": "https://localhost:8080/"
        },
        "id": "fEzfHKKwD-_z",
        "outputId": "8368b3b4-4661-4e3b-dfbb-2b2593ae813f"
      },
      "execution_count": 2,
      "outputs": [
        {
          "output_type": "stream",
          "name": "stdout",
          "text": [
            "['a', 'b', 'c', 'd', 'e']\n",
            "[34, 15, 78, 50, 67]\n"
          ]
        }
      ]
    },
    {
      "cell_type": "code",
      "source": [
        "maxv, minv = max(v), min(v)\n",
        "print(f\"Max value = {maxv}\\nMin value = {minv}\")"
      ],
      "metadata": {
        "colab": {
          "base_uri": "https://localhost:8080/"
        },
        "id": "PRRei8CYE_bQ",
        "outputId": "f2f24446-1e92-4af2-b6f1-8c7294d9278b"
      },
      "execution_count": 6,
      "outputs": [
        {
          "output_type": "stream",
          "name": "stdout",
          "text": [
            "Max value = 78\n",
            "Min value = 15\n"
          ]
        }
      ]
    },
    {
      "cell_type": "code",
      "source": [
        "maxv_index, minv_index = v.index(maxv), v.index(minv)\n",
        "print(f\"The max value key = {k[maxv_index]}\\nThe min value key = {k[minv_index]}\")"
      ],
      "metadata": {
        "colab": {
          "base_uri": "https://localhost:8080/"
        },
        "id": "euqlmD1fFYWK",
        "outputId": "370a85ae-e1fe-4ad2-ada5-e20364954342"
      },
      "execution_count": 8,
      "outputs": [
        {
          "output_type": "stream",
          "name": "stdout",
          "text": [
            "The max value key = c\n",
            "The min value key = b\n"
          ]
        }
      ]
    },
    {
      "cell_type": "markdown",
      "source": [
        "**2) From a given list of marks, find the second highest marks.**"
      ],
      "metadata": {
        "id": "tBoc62tBRIy0"
      }
    },
    {
      "cell_type": "code",
      "source": [
        "marks = [68, 72, 84, 76, 89, 92, 50, 82]\n",
        "marks.sort()\n",
        "print(marks)"
      ],
      "metadata": {
        "colab": {
          "base_uri": "https://localhost:8080/"
        },
        "id": "7ttnZp9rR3sR",
        "outputId": "5a19d22e-142a-4edc-ca98-03baf8add35f"
      },
      "execution_count": 10,
      "outputs": [
        {
          "output_type": "stream",
          "name": "stdout",
          "text": [
            "[50, 68, 72, 76, 82, 84, 89, 92]\n"
          ]
        }
      ]
    },
    {
      "cell_type": "code",
      "source": [
        "print(f\"Second highest marks = {marks[-2]}\")"
      ],
      "metadata": {
        "colab": {
          "base_uri": "https://localhost:8080/"
        },
        "id": "bCavBfSSSF-y",
        "outputId": "77411fb0-b097-4612-807b-2edba7890709"
      },
      "execution_count": 11,
      "outputs": [
        {
          "output_type": "stream",
          "name": "stdout",
          "text": [
            "Second highest marks = 89\n"
          ]
        }
      ]
    },
    {
      "cell_type": "markdown",
      "source": [
        "3) Create a function to generate a list containing common elements of two given lists.\n",
        "\n",
        "w1 = [1,2,3,4,67,78]\n",
        "\n",
        "w2 = [45,78,3,11,109]"
      ],
      "metadata": {
        "id": "WUFG3cSHSniD"
      }
    },
    {
      "cell_type": "code",
      "source": [
        "w1 = [1,2,3,4,67,78]\n",
        "w2 = [45,78,3,11,109]\n",
        "\n",
        "def common1(w1, w2):\n",
        "  common = []\n",
        "  for i in w1:\n",
        "    if i in w2:\n",
        "      common.append(i)\n",
        "  print(common)\n",
        "\n",
        "common1(w1, w2)"
      ],
      "metadata": {
        "colab": {
          "base_uri": "https://localhost:8080/"
        },
        "id": "GBAXJ3tO7ULi",
        "outputId": "798a7a4b-61c3-4018-fce5-9e0adf6a86be"
      },
      "execution_count": 12,
      "outputs": [
        {
          "output_type": "stream",
          "name": "stdout",
          "text": [
            "[3, 78]\n"
          ]
        }
      ]
    }
  ]
}